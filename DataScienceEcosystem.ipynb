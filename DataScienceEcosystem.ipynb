{
 "cells": [
  {
   "cell_type": "markdown",
   "id": "6aaa6edb-2ed5-40a6-9be9-0c01bd2ab081",
   "metadata": {},
   "source": [
    "# Data Science Tools and Ecosystem"
   ]
  },
  {
   "cell_type": "markdown",
   "id": "2e221589-0012-484c-bd1b-7afacf88213c",
   "metadata": {},
   "source": [
    "In this notebook, Data Science Tools and Ecosystem are summarized."
   ]
  },
  {
   "cell_type": "markdown",
   "id": "fa1a3030-d557-4564-b219-07b2c258059b",
   "metadata": {},
   "source": [
    "**Objectives:** \n",
    "* Understand the programming languages for data science \n",
    "* Understand the common libraries for data science\n",
    "* Understand the tools used in the data science scope "
   ]
  },
  {
   "cell_type": "markdown",
   "id": "d36dd56a-f113-4041-8a20-bc382fbcbc3f",
   "metadata": {},
   "source": [
    "Some of the popular languages that Data Scientists use are: Python, R, Scala, SQL, Julia, Java etc. \n",
    "1. Python \n",
    "2. R \n",
    "3. SQL "
   ]
  },
  {
   "cell_type": "markdown",
   "id": "11684d14-4ce7-4af6-afb1-23d55dbfd5f2",
   "metadata": {},
   "source": [
    "Some of the commonly used libraries used by Data Scientists include: (Python) Panda, Numpy, Matplotlib, Seaborn, Scikit-learn, Keras, TensorFlow, PyTorch. (Scala) Vegas, BigDL. (R) dplyr, stringr, ggplot, caret, Plotly, Lattice, Leaflet, GGally.\n",
    "1. Panda\n",
    "2. Numpy\n",
    "3. TensorFlow\n",
    "4. dplyr\n",
    "5. ggplot  "
   ]
  },
  {
   "cell_type": "markdown",
   "id": "a20ef017-e5d8-46ab-a750-c4b537fca826",
   "metadata": {},
   "source": [
    "|Data Science Tools|\n",
    "|----|\n",
    "|Hadoop|\n",
    "|Apache - Spark|\n",
    "|Jupyter|\n"
   ]
  },
  {
   "cell_type": "markdown",
   "id": "d5326709-cd45-4ce8-8be4-253caa328f9e",
   "metadata": {},
   "source": [
    "### Below are a few examples of evaluating arithmetic expressions in Python"
   ]
  },
  {
   "cell_type": "code",
   "execution_count": 1,
   "id": "8e03d071-5648-4ee5-9e29-5158c10b484a",
   "metadata": {},
   "outputs": [
    {
     "data": {
      "text/plain": [
       "17"
      ]
     },
     "execution_count": 1,
     "metadata": {},
     "output_type": "execute_result"
    }
   ],
   "source": [
    "# This a simple arithmetic expression to mutiply then add integers\n",
    "(3*4)+5"
   ]
  },
  {
   "cell_type": "code",
   "execution_count": 2,
   "id": "85e6ee11-87f3-4159-8b19-02577b61f195",
   "metadata": {},
   "outputs": [
    {
     "data": {
      "text/plain": [
       "3.3333333333333335"
      ]
     },
     "execution_count": 2,
     "metadata": {},
     "output_type": "execute_result"
    }
   ],
   "source": [
    "# This will convert 200 minutes to hours by diving by 60\n",
    "200/60\n"
   ]
  },
  {
   "cell_type": "markdown",
   "id": "3d58547e-fa47-4c19-921f-1ea01a7f467d",
   "metadata": {},
   "source": [
    "## Author \n",
    "Jianhua Li "
   ]
  },
  {
   "cell_type": "code",
   "execution_count": null,
   "id": "c4d539ae-84b1-40bd-8c47-3d5715ccc208",
   "metadata": {},
   "outputs": [],
   "source": []
  }
 ],
 "metadata": {
  "kernelspec": {
   "display_name": "anaconda-2022.05-py39",
   "language": "python",
   "name": "conda-env-anaconda-2022.05-py39-py"
  },
  "language_info": {
   "codemirror_mode": {
    "name": "ipython",
    "version": 3
   },
   "file_extension": ".py",
   "mimetype": "text/x-python",
   "name": "python",
   "nbconvert_exporter": "python",
   "pygments_lexer": "ipython3",
   "version": "3.9.12"
  }
 },
 "nbformat": 4,
 "nbformat_minor": 5
}
